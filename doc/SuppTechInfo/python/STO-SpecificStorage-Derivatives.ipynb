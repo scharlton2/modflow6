{
 "cells": [
  {
   "cell_type": "code",
   "execution_count": null,
   "metadata": {},
   "outputs": [],
   "source": [
    "import matplotlib.pyplot as plt\n",
    "import numpy as np"
   ]
  },
  {
   "cell_type": "code",
   "execution_count": null,
   "metadata": {},
   "outputs": [],
   "source": [
    "nz = 10000\n",
    "cell_size = 10.0\n",
    "sat = 0.25\n",
    "bot = 10.0\n",
    "h = bot + sat * cell_size\n",
    "top = bot + cell_size\n",
    "deltaz = top - bot"
   ]
  },
  {
   "cell_type": "code",
   "execution_count": null,
   "metadata": {},
   "outputs": [],
   "source": [
    "z = np.linspace(bot, h, nz + 1)"
   ]
  },
  {
   "cell_type": "code",
   "execution_count": null,
   "metadata": {},
   "outputs": [],
   "source": [
    "ss = 1.0"
   ]
  },
  {
   "cell_type": "code",
   "execution_count": null,
   "metadata": {},
   "outputs": [],
   "source": [
    "ss_fd = 0.0\n",
    "for idx in range(nz):\n",
    "    z0, z1 = z[idx], z[idx + 1]\n",
    "    dz = z1 - z0\n",
    "    rho = ss * dz\n",
    "    psi = h - z0 - 0.5 * dz\n",
    "    ss_fd += rho * psi\n",
    "print(ss_fd)"
   ]
  },
  {
   "cell_type": "code",
   "execution_count": null,
   "metadata": {},
   "outputs": [],
   "source": [
    "psi_avg = h - bot - deltaz * sat / 2\n",
    "psi_avg"
   ]
  },
  {
   "cell_type": "code",
   "execution_count": null,
   "metadata": {},
   "outputs": [],
   "source": [
    "ss * deltaz * sat * (h - bot - sat * (top - bot) / 2)"
   ]
  },
  {
   "cell_type": "code",
   "execution_count": null,
   "metadata": {},
   "outputs": [],
   "source": [
    "ss * deltaz * sat * (h - bot)"
   ]
  },
  {
   "cell_type": "code",
   "execution_count": null,
   "metadata": {},
   "outputs": [],
   "source": [
    "def quad_sat(x, tp, bt, omega=0.1):\n",
    "    if isinstance(x, float):\n",
    "        x = np.array([x], dtype=float)\n",
    "    elif isinstance(x, (list, tuple)):\n",
    "        x = np.array(x, dtype=float)\n",
    "\n",
    "    y = np.zeros(x.shape, dtype=z.dtype)\n",
    "    dz = tp - bt\n",
    "    br = (x - bt) / dz\n",
    "    br[x < bt] = 0.0\n",
    "    br[x > tp] = 1.0\n",
    "\n",
    "    if omega == 0:\n",
    "        y[:] = br\n",
    "    else:\n",
    "        av = 1.0 / (1.0 - omega)\n",
    "\n",
    "        idx = br < omega\n",
    "        y[idx] = 0.5 * av * br[idx] ** 2.0 / omega\n",
    "\n",
    "        idx = (br >= omega) & (br < 1.0 - omega)\n",
    "        y[idx] = av * br[idx] + 0.5 * (1.0 - av)\n",
    "\n",
    "        idx = br >= 1.0 - omega\n",
    "        y[idx] = 1.0 - ((0.5 * av * (1.0 - br[idx]) ** 2) / omega)\n",
    "\n",
    "    return y"
   ]
  },
  {
   "cell_type": "code",
   "execution_count": null,
   "metadata": {},
   "outputs": [],
   "source": [
    "def quad_sat_derv_fd(x, tp, bt, omega=0.1, power=1):\n",
    "    dx = 1e-6\n",
    "    derv = np.zeros(x.shape, dtype=x.dtype)\n",
    "    for idx, xx in enumerate(x):\n",
    "        xx0, xx1 = xx - dx, xx + dx\n",
    "        y0 = quad_sat(xx0, tp, bt, omega=omega)\n",
    "        y1 = quad_sat(xx1, tp, bt, omega=omega)\n",
    "        derv[idx] = (y1**power - y0**power) / (2 * dx)\n",
    "    return derv"
   ]
  },
  {
   "cell_type": "code",
   "execution_count": null,
   "metadata": {},
   "outputs": [],
   "source": [
    "harr = np.linspace(bot - 1.0, top + 1.0, nz)\n",
    "omega = 1e-6"
   ]
  },
  {
   "cell_type": "code",
   "execution_count": null,
   "metadata": {},
   "outputs": [],
   "source": [
    "sat_lin = quad_sat(harr, top, bot, omega=0.0)\n",
    "sat_lin.mean()"
   ]
  },
  {
   "cell_type": "code",
   "execution_count": null,
   "metadata": {},
   "outputs": [],
   "source": [
    "sat = quad_sat(harr, top, bot, omega=omega)\n",
    "sat"
   ]
  },
  {
   "cell_type": "code",
   "execution_count": null,
   "metadata": {},
   "outputs": [],
   "source": [
    "plt.plot(harr, sat_lin)\n",
    "plt.plot(harr, sat)"
   ]
  },
  {
   "cell_type": "code",
   "execution_count": null,
   "metadata": {},
   "outputs": [],
   "source": [
    "sat_derv = quad_sat_derv_fd(harr, top, bot, power=1, omega=omega)"
   ]
  },
  {
   "cell_type": "code",
   "execution_count": null,
   "metadata": {},
   "outputs": [],
   "source": [
    "plt.plot(harr, sat_derv)"
   ]
  },
  {
   "cell_type": "code",
   "execution_count": null,
   "metadata": {},
   "outputs": [],
   "source": [
    "plt.plot(harr, quad_sat_derv_fd(harr, top, bot, power=2, omega=omega))"
   ]
  },
  {
   "cell_type": "code",
   "execution_count": null,
   "metadata": {},
   "outputs": [],
   "source": [
    "plt.plot(harr, 2 * sat * sat_derv)"
   ]
  },
  {
   "cell_type": "code",
   "execution_count": null,
   "metadata": {},
   "outputs": [],
   "source": []
  }
 ],
 "metadata": {
  "kernelspec": {
   "display_name": "Python 3",
   "language": "python",
   "name": "python3"
  },
  "language_info": {
   "codemirror_mode": {
    "name": "ipython",
    "version": 3
   },
   "file_extension": ".py",
   "mimetype": "text/x-python",
   "name": "python",
   "nbconvert_exporter": "python",
   "pygments_lexer": "ipython3",
   "version": "3.8.10"
  }
 },
 "nbformat": 4,
 "nbformat_minor": 4
}
