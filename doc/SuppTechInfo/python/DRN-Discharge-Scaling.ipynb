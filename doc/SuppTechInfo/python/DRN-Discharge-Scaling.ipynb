{
 "cells": [
  {
   "cell_type": "code",
   "execution_count": null,
   "metadata": {},
   "outputs": [],
   "source": [
    "import os\n",
    "\n",
    "import matplotlib.gridspec as gridspec\n",
    "import matplotlib.pyplot as plt\n",
    "import numpy as np"
   ]
  },
  {
   "cell_type": "code",
   "execution_count": null,
   "metadata": {},
   "outputs": [],
   "source": [
    "try:\n",
    "    import spnspecs\n",
    "\n",
    "    spnspecs.set_graph_specifications()\n",
    "except:\n",
    "    spnspecs = None"
   ]
  },
  {
   "cell_type": "code",
   "execution_count": null,
   "metadata": {},
   "outputs": [],
   "source": [
    "figpth = \"../Figures\"\n",
    "width = 6.8\n",
    "dpi = 300"
   ]
  },
  {
   "cell_type": "code",
   "execution_count": null,
   "metadata": {},
   "outputs": [],
   "source": [
    "def no_smoothing(sat):\n",
    "    f = sat.copy()\n",
    "    f[sat < 0] = 0.0\n",
    "    f[sat >= 0] = 1.0\n",
    "    return f"
   ]
  },
  {
   "cell_type": "code",
   "execution_count": null,
   "metadata": {},
   "outputs": [],
   "source": [
    "def linear_smoothing(sat):\n",
    "    f = sat.copy()\n",
    "    f[sat < 0] = 0.0\n",
    "    f[sat > 1] = 1.0\n",
    "    return f"
   ]
  },
  {
   "cell_type": "code",
   "execution_count": null,
   "metadata": {},
   "outputs": [],
   "source": [
    "def cubic_smoothing(sat, c1=-1, c2=2):\n",
    "    f = c1 * sat**3 + c2 * sat**2\n",
    "    f[sat < 0] = 0\n",
    "    f[sat > 1] = 1\n",
    "    return f"
   ]
  },
  {
   "cell_type": "code",
   "execution_count": null,
   "metadata": {},
   "outputs": [],
   "source": [
    "def cubic_smoothing_dervsat(sat, c1=-1, c2=2):\n",
    "    dfdx = 3 * c1 * sat**2 + 2.0 * c2 * sat\n",
    "    dfdx[sat < 0] = 0\n",
    "    dfdx[sat > 1] = 0\n",
    "    return dfdx"
   ]
  },
  {
   "cell_type": "code",
   "execution_count": null,
   "metadata": {},
   "outputs": [],
   "source": [
    "def cubic_smoothingalt(x, xrange, c1=-1, c2=2):\n",
    "    sat = x / xrange\n",
    "    cof1 = c1 / (xrange) ** 3\n",
    "    cof2 = c2 / (xrange) ** 2\n",
    "    f = cof1 * x**3 + cof2 * x**2\n",
    "    f[sat < 0] = 0\n",
    "    f[sat > 1] = 1\n",
    "    return f"
   ]
  },
  {
   "cell_type": "code",
   "execution_count": null,
   "metadata": {},
   "outputs": [],
   "source": [
    "def cubic_smoothing_dervh(x, xrange, c1=-1, c2=2):\n",
    "    sat = x / xrange\n",
    "    cof1 = 3 * c1 / (xrange) ** 3\n",
    "    cof2 = 2 * c2 / (xrange) ** 2\n",
    "    dfdx = cof1 * x**2 + cof2 * x\n",
    "    dfdx[sat < 0] = 0\n",
    "    dfdx[sat > 1] = 0\n",
    "    return dfdx"
   ]
  },
  {
   "cell_type": "code",
   "execution_count": null,
   "metadata": {},
   "outputs": [],
   "source": [
    "def fd_derv(x, v):\n",
    "    isize = v.shape[0]\n",
    "    derv = np.ones((isize), dtype=v.dtype) * np.nan\n",
    "    for i in range(1, isize - 2):\n",
    "        dv = v[i + 1] - v[i - 1]\n",
    "        dx = x[i + 1] - x[i - 1]\n",
    "        derv[i] = dv / dx\n",
    "    return derv"
   ]
  },
  {
   "cell_type": "code",
   "execution_count": null,
   "metadata": {},
   "outputs": [],
   "source": [
    "dtype = np.float\n",
    "step = 0.001\n",
    "s0, s1 = -0.1, 1.1\n",
    "s = np.arange(s0, s1, step=step, dtype=dtype)\n",
    "sp = s.copy()\n",
    "sp[s < 0] = 0.0\n",
    "sp[s > 1] = 1.0"
   ]
  },
  {
   "cell_type": "code",
   "execution_count": null,
   "metadata": {},
   "outputs": [],
   "source": [
    "s1, s.shape"
   ]
  },
  {
   "cell_type": "code",
   "execution_count": null,
   "metadata": {},
   "outputs": [],
   "source": [
    "plt.plot(s, sp * sp)"
   ]
  },
  {
   "cell_type": "code",
   "execution_count": null,
   "metadata": {},
   "outputs": [],
   "source": [
    "f0 = cubic_smoothing(s)\n",
    "f1 = cubic_smoothing(s, c1=-2.0, c2=3.0)"
   ]
  },
  {
   "cell_type": "code",
   "execution_count": null,
   "metadata": {},
   "outputs": [],
   "source": [
    "dseep = 1.0\n",
    "z0 = 0.0\n",
    "xdiff = dseep * s\n",
    "h = xdiff + z0\n",
    "dsdh = 1.0 / dseep"
   ]
  },
  {
   "cell_type": "code",
   "execution_count": null,
   "metadata": {},
   "outputs": [],
   "source": [
    "plt.plot(s, sp, lw=1.5, color=\"black\", label=\"Linear\")\n",
    "plt.plot(s, f0, lw=0.75, color=\"blue\", label=\"GWSEEP\")\n",
    "plt.plot(s, f1, lw=0.75, color=\"red\", label=\"WELL\")\n",
    "if spnspecs is not None:\n",
    "    spnspecs.graph_legend(plt.gca())\n",
    "# plt.xlim(0.9, 1.1)\n",
    "# plt.ylim(0.9, 1.1)"
   ]
  },
  {
   "cell_type": "code",
   "execution_count": null,
   "metadata": {},
   "outputs": [],
   "source": [
    "f0p = cubic_smoothingalt(xdiff, dseep)\n",
    "f1p = cubic_smoothingalt(xdiff, dseep, c1=-2.0, c2=3.0)"
   ]
  },
  {
   "cell_type": "code",
   "execution_count": null,
   "metadata": {},
   "outputs": [],
   "source": [
    "plt.plot(s, f0, lw=0.75, color=\"blue\", label=\"GWSEEP\")\n",
    "plt.plot(s, f0p, lw=0.0, color=\"blue\", marker=\"o\", mfc=\"none\", ms=4, markevery=50)\n",
    "plt.plot(s, f1, lw=0.75, color=\"red\", label=\"WELL\")\n",
    "plt.plot(s, f1p, lw=0.0, color=\"red\", marker=\"o\", mfc=\"none\", ms=4, markevery=50)"
   ]
  },
  {
   "cell_type": "code",
   "execution_count": null,
   "metadata": {},
   "outputs": [],
   "source": [
    "plt.plot(s, f0 - f0p, lw=0.75, color=\"blue\", label=\"GWSEEP\")\n",
    "plt.plot(s, f1 - f1p, lw=0.75, color=\"red\", label=\"WELL\")"
   ]
  },
  {
   "cell_type": "code",
   "execution_count": null,
   "metadata": {},
   "outputs": [],
   "source": [
    "spderv = np.ones(s.shape, dtype=np.float)\n",
    "spderv[s < 0] = 0.0\n",
    "spderv[s > 1] = 0.0"
   ]
  },
  {
   "cell_type": "code",
   "execution_count": null,
   "metadata": {},
   "outputs": [],
   "source": [
    "f0derv = cubic_smoothing_dervsat(s)\n",
    "f1derv = cubic_smoothing_dervsat(s, c1=-2.0, c2=3.0)"
   ]
  },
  {
   "cell_type": "code",
   "execution_count": null,
   "metadata": {},
   "outputs": [],
   "source": [
    "f0derv2 = cubic_smoothing_dervh(xdiff, dseep)\n",
    "f1derv2 = cubic_smoothing_dervh(xdiff, dseep, c1=-2.0, c2=3.0)"
   ]
  },
  {
   "cell_type": "code",
   "execution_count": null,
   "metadata": {},
   "outputs": [],
   "source": [
    "plt.plot(s, f0derv, lw=4, color=\"blue\", label=\"GWSEEP\", alpha=0.5)\n",
    "plt.plot(\n",
    "    s, f0derv2 / dsdh, lw=0.75, color=\"black\", ls=\"-.\"\n",
    ")  # marker='o', mfc='none', ms=4, markevery=50)\n",
    "plt.plot(s, f1derv, lw=4, color=\"red\", label=\"WELL\", alpha=0.5)\n",
    "plt.plot(\n",
    "    s, f1derv2 / dsdh, lw=0.75, color=\"black\", ls=\"-.\"\n",
    ")  # marker='o', mfc='none', ms=4, markevery=50)"
   ]
  },
  {
   "cell_type": "code",
   "execution_count": null,
   "metadata": {},
   "outputs": [],
   "source": [
    "plt.plot(s, fd_derv(h, f0), lw=0.75, color=\"blue\", label=\"GWSEEP\")\n",
    "plt.plot(s, fd_derv(h, f1), lw=0.75, color=\"red\", label=\"WELL\")\n",
    "plt.ylabel(r\"$\\frac{\\partial F}{\\partial h}$\");"
   ]
  },
  {
   "cell_type": "code",
   "execution_count": null,
   "metadata": {},
   "outputs": [],
   "source": [
    "plt.plot(s, fd_derv(h, f0p), lw=0.75, color=\"blue\", label=\"GWSEEP\")\n",
    "plt.plot(s, fd_derv(h, f1p), lw=0.75, color=\"red\", label=\"WELL\")\n",
    "plt.ylabel(r\"$\\frac{\\partial F}{\\partial h}$\");"
   ]
  },
  {
   "cell_type": "code",
   "execution_count": null,
   "metadata": {},
   "outputs": [],
   "source": []
  },
  {
   "cell_type": "markdown",
   "metadata": {},
   "source": [
    "### Plot data"
   ]
  },
  {
   "cell_type": "code",
   "execution_count": null,
   "metadata": {},
   "outputs": [],
   "source": [
    "fig, axes = plt.subplots(\n",
    "    nrows=1, ncols=2, tight_layout=True, figsize=(width, (1.4 / s1) * width / 2)\n",
    ")\n",
    "\n",
    "letters = [\"A\", \"B\"]\n",
    "for idx, ax in enumerate(axes):\n",
    "    ax.set_xlim(s0, s1)\n",
    "    ax.set_ylim(s0, 1.4)\n",
    "    ax.set_xticks([0, 0.25, 0.5, 0.75, 1])\n",
    "    ax.set_xticklabels([\"0\", \"0.25\", \"0.50\", \"0.75\", \"1.00\"])\n",
    "    ax.set_yticks([0, 0.25, 0.5, 0.75, 1, 1.25])\n",
    "    ax.set_yticklabels([\"0\", \"0.25\", \"0.50\", \"0.75\", \"1.00\", \"1.25\"])\n",
    "    if spnspecs is not None:\n",
    "        spnspecs.remove_edge_ticks(ax)\n",
    "        spnspecs.heading(ax, letter=letters[idx])\n",
    "\n",
    "ax = axes[0]\n",
    "ax.axhline(0, lw=0.5, ls=\"-.\", color=\"black\")\n",
    "ax.axhline(1, lw=0.5, ls=\"-.\", color=\"black\")\n",
    "ax.axvline(0, lw=0.5, ls=\"-.\", color=\"black\")\n",
    "ax.axvline(1, lw=0.5, ls=\"-.\", color=\"black\")\n",
    "ax.plot(s, sp, lw=3.5, color=\"blue\", label=r\"$F_{DRN}$\")\n",
    "ax.plot(s, f0, lw=1.75, color=\"red\", label=r\"$F_{DRN}^*$\")\n",
    "ax.set_xlabel(r\"$\\frac{h - ZDRN}{DDRN}$, unitless\")\n",
    "ax.set_ylabel(\"Discharge scale factor, unitless\")\n",
    "\n",
    "ax = axes[1]\n",
    "ax.axhline(0, lw=0.5, ls=\"-.\", color=\"black\")\n",
    "ax.axhline(1, lw=0.5, ls=\"-.\", color=\"black\")\n",
    "ax.axvline(0, lw=0.5, ls=\"-.\", color=\"black\")\n",
    "ax.axvline(1, lw=0.5, ls=\"-.\", color=\"black\")\n",
    "ax.plot([0, 1], [1, 1], lw=3.5, color=\"blue\", label=r\"$F_{DRN}$ (linear)\")\n",
    "ax.plot([s0, 0], [0, 0], lw=3.5, color=\"blue\", label=None)\n",
    "ax.plot([1, s1], [0, 0], lw=3.5, color=\"blue\", label=None)\n",
    "ax.plot(s[s <= 1], f0derv[s <= 1], lw=1.75, color=\"red\", label=r\"$F_{DRN}^*$ (cubic)\")\n",
    "ax.plot([1, s1], [0, 0], lw=1.75, color=\"red\", label=None)\n",
    "if spnspecs is not None:\n",
    "    spnspecs.graph_legend(ax, loc=\"lower right\", bbox_to_anchor=(0.9, 0.05))\n",
    "ax.set_xlabel(r\"$\\frac{h - ZDRN}{DDRN}$, unitless\")\n",
    "ax.set_ylabel(\n",
    "    \"Discharge scale factor derivative with respect to \"\n",
    "    + r\"$\\frac{h - ZDRN}{DDRN}$, unitless\"\n",
    ")\n",
    "\n",
    "fpth = os.path.join(figpth, \"DischargeScaleFactor.pdf\")\n",
    "fig.savefig(fpth, dpi=dpi)"
   ]
  },
  {
   "cell_type": "code",
   "execution_count": null,
   "metadata": {},
   "outputs": [],
   "source": [
    "dc = np.arange(0, 1, 0.0001)\n",
    "z = np.zeros(dc.shape, dtype=np.float)\n",
    "slope = 0.2\n",
    "dadd = 0.1\n",
    "d = dadd\n",
    "for idx in range(1, dc.shape[0]):\n",
    "    v = dc[idx]\n",
    "    if v > d:\n",
    "        slope *= -1.0\n",
    "        d += dadd\n",
    "    z[idx] = z[idx - 1] + slope * (v - dc[idx - 1])\n",
    "z -= z.max() / 2\n",
    "zmin, zmax = z.min(), z.max()\n",
    "ymin, ymax = -slope / 10, slope / 10"
   ]
  },
  {
   "cell_type": "code",
   "execution_count": null,
   "metadata": {},
   "outputs": [],
   "source": [
    "t = np.arange(s.shape[0]) / s.shape[0]\n",
    "xdiffq = xdiff.copy()\n",
    "xdiffq[xdiff < 0] = 0\n",
    "q0 = no_smoothing(s) * xdiffq\n",
    "ql = linear_smoothing(s) * xdiffq\n",
    "qc = cubic_smoothing(s) * xdiffq"
   ]
  },
  {
   "cell_type": "code",
   "execution_count": null,
   "metadata": {},
   "outputs": [],
   "source": [
    "arrowprops = dict(arrowstyle=\"->\", connectionstyle=\"arc3\")"
   ]
  },
  {
   "cell_type": "code",
   "execution_count": null,
   "metadata": {},
   "outputs": [],
   "source": [
    "fig = plt.figure(tight_layout=True, figsize=(width, (2 / 3) * width))\n",
    "gs = gridspec.GridSpec(2, 3)\n",
    "axes = [\n",
    "    fig.add_subplot(gs[0, :]),\n",
    "    fig.add_subplot(gs[1, 0]),\n",
    "    fig.add_subplot(gs[1, 1]),\n",
    "    fig.add_subplot(gs[1, 2]),\n",
    "]\n",
    "xlims = [(0.0, 1.0), (0.0, 1.0), (0.0, 1.0), (0.0, 1.0)]\n",
    "ylims = [(ymax, ymin), (s0, s1), (0, s1), (0, 600)]\n",
    "\n",
    "letters = [\"A\", \"B\", \"C\", \"D\"]\n",
    "for idx, ax in enumerate(axes):\n",
    "    ax.set_xlim(xlims[idx])\n",
    "    ax.set_ylim(ylims[idx])\n",
    "    if idx > 0:\n",
    "        ax.set_xticks([0, 0.25, 0.5, 0.75, 1])\n",
    "        ax.set_xticklabels([\"0\", \"0.25\", \"0.50\", \"0.75\", \"1.00\"])\n",
    "    else:\n",
    "        ax.tick_params(axis=\"both\", length=0, labelbottom=False, labelleft=False)\n",
    "    if spnspecs is not None:\n",
    "        spnspecs.remove_edge_ticks(ax)\n",
    "        spnspecs.heading(ax, letter=letters[idx])\n",
    "\n",
    "ax = axes[0]\n",
    "ax.fill_between(dc, ymax, 0, color=\"0.9\")\n",
    "# ax.plot(dc, z, lw=1, color='black')\n",
    "ax.axhline(zmin, lw=0.5, ls=\"--\", color=\"black\")\n",
    "ax.axhline(zmax, lw=0.5, ls=\"--\", color=\"black\")\n",
    "ax.axhline(0, lw=0.75, color=\"black\")\n",
    "if spnspecs is not None:\n",
    "    text = \"DDRN\"\n",
    "    # spnspecs.add_text(ax, 'DDRN', x=1.01, y=0.5, ha='center', va='center',\n",
    "    #                  bold=False, rotation=-90)\n",
    "    spnspecs.add_annotation(\n",
    "        ax,\n",
    "        text=text,\n",
    "        xy=(1.01, 0.77),\n",
    "        xytext=(1.01, 0.5),\n",
    "        bold=False,\n",
    "        rotation=-90,\n",
    "        ha=\"center\",\n",
    "        va=\"center\",\n",
    "        xycoords=\"axes fraction\",\n",
    "        textcoords=\"axes fraction\",\n",
    "        arrowprops=arrowprops,\n",
    "    )\n",
    "    spnspecs.add_annotation(\n",
    "        ax,\n",
    "        text=text,\n",
    "        xy=(1.01, 0.23),\n",
    "        xytext=(1.01, 0.5),\n",
    "        bold=False,\n",
    "        rotation=-90,\n",
    "        ha=\"center\",\n",
    "        va=\"center\",\n",
    "        xycoords=\"axes fraction\",\n",
    "        textcoords=\"axes fraction\",\n",
    "        arrowprops=arrowprops,\n",
    "    )\n",
    "    text = \"Land surface elevation\"\n",
    "    #     spnspecs.add_annotation(ax, text=text, xy=(0.6, 0.48), xytext=(0.68, 0.9),\n",
    "    #                             bold=False, ha='center', va='center',\n",
    "    #                             xycoords='axes fraction', textcoords='axes fraction',\n",
    "    #                             arrowprops=arrowprops)\n",
    "    spnspecs.add_text(ax, text=text, x=0.5, y=0.5, bold=False, ha=\"center\", va=\"bottom\")\n",
    "    text = \"Cell top\"\n",
    "    spnspecs.add_text(ax, text=text, x=0.01, y=0.5, bold=False, ha=\"left\", va=\"bottom\")\n",
    "    text = \"Cell bottom\"\n",
    "    spnspecs.add_text(ax, text=text, x=0.01, y=0.01, bold=False, ha=\"left\", va=\"bottom\")\n",
    "    text = r\"Land surface elevation + $\\frac{DDRN}{2}$\"\n",
    "    spnspecs.add_text(\n",
    "        ax, text=text, x=0.5, y=zmax, transform=False, bold=False, ha=\"center\"\n",
    "    )\n",
    "    text = r\"Land surface elevation - $\\frac{DDRN}{2}$\"\n",
    "    spnspecs.add_text(\n",
    "        ax, text=text, x=0.5, y=zmin, transform=False, bold=False, ha=\"center\", va=\"top\"\n",
    "    )\n",
    "    text = r\"$ZDRN + DDRN$\"\n",
    "    spnspecs.add_text(\n",
    "        ax, text=text, x=0.99, y=zmax, transform=False, bold=False, ha=\"right\"\n",
    "    )\n",
    "    text = r\"$ZDRN$\"\n",
    "    spnspecs.add_text(\n",
    "        ax, text=text, x=0.99, y=zmin, transform=False, bold=False, ha=\"right\", va=\"top\"\n",
    "    )\n",
    "\n",
    "ax = axes[1]\n",
    "ax.axhline(0, lw=0.5, ls=\"-.\", color=\"black\")\n",
    "ax.axhline(1, lw=0.5, ls=\"-.\", color=\"black\")\n",
    "ax.plot(t, s, lw=1.5, color=\"0.5\", ls=\"--\", label=r\"$F_{DRN}$\")\n",
    "ax.set_xlabel(\"Fractional simulation time, unitless\")\n",
    "ax.set_ylabel(r\"$\\frac{h - ZDRN}{DDRN}$, unitless\")\n",
    "text = r\"$h = ZDRN + DDRN$\"\n",
    "spnspecs.add_text(\n",
    "    ax, text=text, x=0.02, y=0.98, transform=False, bold=False, ha=\"left\", va=\"top\"\n",
    ")\n",
    "text = r\"$h = ZDRN$\"\n",
    "spnspecs.add_text(\n",
    "    ax, text=text, x=0.99, y=0.01, transform=False, bold=False, ha=\"right\", va=\"bottom\"\n",
    ")\n",
    "\n",
    "\n",
    "ax = axes[2]\n",
    "ax.plot(t, q0, lw=0.75, color=\"black\")\n",
    "ax.plot(t, ql, lw=1.5, color=\"blue\")\n",
    "ax.plot(t, qc, lw=0.75, color=\"red\", label=r\"$F_{DRN}^*$\")\n",
    "ax.set_xlabel(\"Fractional simulation time, unitless\")\n",
    "ax.set_ylabel(r\"Drain discharge rate, , L$^3$/T\")\n",
    "text = r\"Area = 1 L$^2$\" + \"\\n\" + r\"K$_v$ = 1 L/T\"\n",
    "if spnspecs is not None:\n",
    "    spnspecs.add_text(\n",
    "        ax, text=text, x=0.1, y=0.93, italic=False, bold=False, ha=\"left\", va=\"top\"\n",
    "    )\n",
    "\n",
    "ax = axes[3]\n",
    "ax.plot(t, q0.cumsum(), lw=0.75, color=\"black\", label=r\"$F_{DRN}^0$ (original)\")\n",
    "ax.plot(t, ql.cumsum(), lw=1.5, color=\"blue\", label=r\"$F_{DRN}$ (linear)\")\n",
    "ax.plot(t, qc.cumsum(), lw=0.75, color=\"red\", label=r\"$F_{DRN}^*$ (cubic)\")\n",
    "ax.set_xlabel(\"Fractional simulation time, unitless\")\n",
    "ax.set_ylabel(r\"Cumulative drain discharge, L$^3$\")\n",
    "if spnspecs is not None:\n",
    "    spnspecs.graph_legend(ax, loc=\"upper left\", labelspacing=0.15)\n",
    "\n",
    "fpth = os.path.join(figpth, \"DRNDischargeDifferences.pdf\")\n",
    "fig.savefig(fpth, dpi=dpi)"
   ]
  },
  {
   "cell_type": "code",
   "execution_count": null,
   "metadata": {},
   "outputs": [],
   "source": [
    "q0.max(), ql.max(), qc.max()"
   ]
  },
  {
   "cell_type": "code",
   "execution_count": null,
   "metadata": {},
   "outputs": [],
   "source": [
    "q0.cumsum().max(), ql.cumsum().max(), qc.cumsum().max()"
   ]
  }
 ],
 "metadata": {
  "kernelspec": {
   "display_name": "Python 3",
   "language": "python",
   "name": "python3"
  },
  "language_info": {
   "codemirror_mode": {
    "name": "ipython",
    "version": 3
   },
   "file_extension": ".py",
   "mimetype": "text/x-python",
   "name": "python",
   "nbconvert_exporter": "python",
   "pygments_lexer": "ipython3",
   "version": "3.7.3"
  }
 },
 "nbformat": 4,
 "nbformat_minor": 2
}
