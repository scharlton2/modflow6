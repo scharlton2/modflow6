{
 "cells": [
  {
   "cell_type": "code",
   "execution_count": null,
   "metadata": {},
   "outputs": [],
   "source": [
    "import os\n",
    "\n",
    "import matplotlib.pyplot as plt\n",
    "import numpy as np"
   ]
  },
  {
   "cell_type": "code",
   "execution_count": null,
   "metadata": {},
   "outputs": [],
   "source": [
    "import spnspecs\n",
    "\n",
    "spnspecs.set_graph_specifications()"
   ]
  },
  {
   "cell_type": "code",
   "execution_count": null,
   "metadata": {},
   "outputs": [],
   "source": [
    "figpth = \"../Figures\"\n",
    "width = 6.8\n",
    "dpi = 300"
   ]
  },
  {
   "cell_type": "code",
   "execution_count": null,
   "metadata": {},
   "outputs": [],
   "source": [
    "# spnspecs.set_graph_specifications()"
   ]
  },
  {
   "cell_type": "code",
   "execution_count": null,
   "metadata": {},
   "outputs": [],
   "source": [
    "def calc_err(tp, datum=1000.0, ss=1e-5, bt=0.0, sf0=0.01, sf1=0.99, dt=1.0, area=1.0):\n",
    "    dz = tp - bt\n",
    "    h0 = sf0 * dz + bt\n",
    "    h1 = sf1 * dz + bt\n",
    "    rho1 = ss * area * dz / dt\n",
    "    Q0 = rho1 * (sf0 * h0 - sf1 * h1)\n",
    "    h0 += datum\n",
    "    h1 += datum\n",
    "    Q1 = rho1 * (sf0 * h0 - sf1 * h1)\n",
    "    return Q0 - Q1"
   ]
  },
  {
   "cell_type": "code",
   "execution_count": null,
   "metadata": {},
   "outputs": [],
   "source": [
    "def err_function(\n",
    "    tp, datum=1000.0, ss=1e-5, bt=0.0, sf0=0.01, sf1=0.99, dt=1.0, area=1.0\n",
    "):\n",
    "    dz = tp - bt\n",
    "    rho1 = ss * area * dz / dt\n",
    "    bt1 = bt + datum\n",
    "    return rho1 * (sf1 * bt1 - sf0 * bt1) - rho1 * (sf1 * bt - sf0 * bt)"
   ]
  },
  {
   "cell_type": "code",
   "execution_count": null,
   "metadata": {},
   "outputs": [],
   "source": [
    "def err_function_simp(\n",
    "    tp, datum=1000.0, ss=1e-5, bt=0.0, sf0=0.01, sf1=0.99, dt=1.0, area=1.0\n",
    "):\n",
    "    dz = tp - bt\n",
    "    rho1 = ss * area * dz / dt\n",
    "    return -rho1 * datum * (sf0 - sf1)"
   ]
  },
  {
   "cell_type": "code",
   "execution_count": null,
   "metadata": {},
   "outputs": [],
   "source": [
    "top = np.array([0.1, 0.5, 1.0, 5.0, 10.0, 50.0, 100.0, 500.0, 1000.0])\n",
    "err = calc_err(top, ss=1e-5)"
   ]
  },
  {
   "cell_type": "code",
   "execution_count": null,
   "metadata": {},
   "outputs": [],
   "source": [
    "plt.plot(top, err)"
   ]
  },
  {
   "cell_type": "code",
   "execution_count": null,
   "metadata": {},
   "outputs": [],
   "source": [
    "fig, axes = plt.subplots(\n",
    "    nrows=1, ncols=1, constrained_layout=True, figsize=(width, 0.3 * width)\n",
    ")\n",
    "\n",
    "ax = axes\n",
    "for sf0, color in zip(\n",
    "    (0.0, 0.1, 0.2, 0.3, 0.4, 0.5), (\"red\", \"orange\", \"green\", \"cyan\", \"blue\", \"black\")\n",
    "):\n",
    "    sf1 = 1.0 - sf0\n",
    "    label = rf\"S$_F^t$ = {sf1:.2f} S$_F^{{told}}$ = {sf0:.2f}\"\n",
    "    ax.plot(\n",
    "        top,\n",
    "        calc_err(top, ss=1, sf0=sf0, sf1=sf1),\n",
    "        lw=1.25,\n",
    "        color=color,\n",
    "        label=label,\n",
    "        clip_on=False,\n",
    "    )\n",
    "ax.set_xlim(0, 1000)\n",
    "ax.set_ylim(0, 1e6)\n",
    "ax.set_xlabel(\"Cell thickness, in length units\")\n",
    "ax.set_ylabel(r\"Q$_{SS}$\" + \" Differences,\\nin cubic length per time units\")\n",
    "spnspecs.graph_legend(ax, ncol=2, labelspacing=0.2, columnspacing=0.5)\n",
    "spnspecs.remove_edge_ticks(ax);\n",
    "\n",
    "# fpth = os.path.join(figpth, 'STOSsError.pdf')\n",
    "# fig.savefig(fpth, dpi=dpi);"
   ]
  },
  {
   "cell_type": "code",
   "execution_count": null,
   "metadata": {},
   "outputs": [],
   "source": [
    "fig, axes = plt.subplots(\n",
    "    nrows=1, ncols=1, tight_layout=True, figsize=(width, width / 2)\n",
    ")\n",
    "\n",
    "ax = axes\n",
    "for sf0, color in zip(\n",
    "    (0.0, 0.1, 0.2, 0.3, 0.4, 0.5), (\"red\", \"orange\", \"green\", \"cyan\", \"blue\", \"black\")\n",
    "):\n",
    "    sf1 = 1.0 - sf0\n",
    "    label = rf\"S$_F^t$ = {sf1:.2f} S$_F^{{told}}$ = {sf0:.2f}\"\n",
    "    ax.plot(\n",
    "        top,\n",
    "        err_function(top, ss=1, sf0=sf0, sf1=sf1),\n",
    "        lw=1.25,\n",
    "        color=color,\n",
    "        label=label,\n",
    "        clip_on=False,\n",
    "    )\n",
    "ax.set_xlim(0, 1000)\n",
    "ax.set_ylim(0, 1e6)\n",
    "ax.set_xlabel(\"Cell thickness, in length units\")\n",
    "ax.set_ylabel(\"Error, in cubic length per time units\")\n",
    "spnspecs.graph_legend(ax)\n",
    "spnspecs.remove_edge_ticks(ax);"
   ]
  },
  {
   "cell_type": "code",
   "execution_count": null,
   "metadata": {},
   "outputs": [],
   "source": [
    "fig, axes = plt.subplots(\n",
    "    nrows=1, ncols=1, constrained_layout=True, figsize=(width, 0.3 * width)\n",
    ")\n",
    "\n",
    "ax = axes\n",
    "for sf0, color in zip(\n",
    "    (0.0, 0.1, 0.2, 0.3, 0.4, 0.5), (\"red\", \"orange\", \"green\", \"cyan\", \"blue\", \"black\")\n",
    "):\n",
    "    sf1 = 1.0 - sf0\n",
    "    label = rf\"S$_F^t$ = {sf1:.2f} S$_F^{{told}}$ = {sf0:.2f}\"\n",
    "    ax.plot(\n",
    "        top,\n",
    "        err_function_simp(top, ss=1e-5, sf0=sf0, sf1=sf1),\n",
    "        lw=1.25,\n",
    "        color=color,\n",
    "        label=label,\n",
    "        clip_on=False,\n",
    "    )\n",
    "ax.set_xlim(0, 1000)\n",
    "ax.set_ylim(0, 10)\n",
    "ax.set_xlabel(\"Cell thickness, in meters\")\n",
    "ax.set_ylabel(r\"$\\Delta$ Q$_{SS}$, in meters$^3$/ day\")\n",
    "spnspecs.graph_legend(ax, ncol=2, labelspacing=0.2, columnspacing=0.5)\n",
    "spnspecs.remove_edge_ticks(ax)\n",
    "fpth = os.path.join(figpth, \"STOSsError.pdf\")\n",
    "fig.savefig(fpth, dpi=dpi);"
   ]
  },
  {
   "cell_type": "code",
   "execution_count": null,
   "metadata": {},
   "outputs": [],
   "source": []
  }
 ],
 "metadata": {
  "kernelspec": {
   "display_name": "Python 3",
   "language": "python",
   "name": "python3"
  },
  "language_info": {
   "codemirror_mode": {
    "name": "ipython",
    "version": 3
   },
   "file_extension": ".py",
   "mimetype": "text/x-python",
   "name": "python",
   "nbconvert_exporter": "python",
   "pygments_lexer": "ipython3",
   "version": "3.8.10"
  }
 },
 "nbformat": 4,
 "nbformat_minor": 4
}
