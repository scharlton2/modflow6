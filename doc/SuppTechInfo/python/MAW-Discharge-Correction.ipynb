{
 "cells": [
  {
   "cell_type": "code",
   "execution_count": null,
   "metadata": {},
   "outputs": [],
   "source": [
    "import os\n",
    "\n",
    "import matplotlib.pyplot as plt\n",
    "import numpy as np"
   ]
  },
  {
   "cell_type": "code",
   "execution_count": null,
   "metadata": {},
   "outputs": [],
   "source": [
    "try:\n",
    "    import spnspecs\n",
    "\n",
    "    spnspecs.set_graph_specifications()\n",
    "except:\n",
    "    spnspecs = None"
   ]
  },
  {
   "cell_type": "code",
   "execution_count": null,
   "metadata": {},
   "outputs": [],
   "source": [
    "figpth = \"../Figures\"\n",
    "width = 6.8\n",
    "dpi = 300"
   ]
  },
  {
   "cell_type": "code",
   "execution_count": null,
   "metadata": {},
   "outputs": [],
   "source": [
    "def drycell_smoothing(h, e, omega):\n",
    "    epsilon = 0.5 * omega\n",
    "    dx = h - e\n",
    "    hbar = np.zeros(h.shape, dtype=np.float)\n",
    "    for idx, v in enumerate(dx):\n",
    "        if v < -epsilon:\n",
    "            hbar[idx] = e\n",
    "        elif v < epsilon:\n",
    "            hbar[idx] = 0.25 * v**2 / epsilon + 0.5 * v + 0.25 * epsilon + e\n",
    "        else:\n",
    "            hbar[idx] = h[idx]\n",
    "    return hbar"
   ]
  },
  {
   "cell_type": "markdown",
   "metadata": {},
   "source": [
    "### Calculate unsmoothed and smoothed hbar"
   ]
  },
  {
   "cell_type": "code",
   "execution_count": null,
   "metadata": {},
   "outputs": [],
   "source": [
    "dtype = np.float\n",
    "step = 0.01\n",
    "h0, h1 = -2, 2\n",
    "h = np.arange(h0, h1, step=step, dtype=dtype)\n",
    "e = 0.0"
   ]
  },
  {
   "cell_type": "code",
   "execution_count": null,
   "metadata": {},
   "outputs": [],
   "source": [
    "h1, h.shape"
   ]
  },
  {
   "cell_type": "code",
   "execution_count": null,
   "metadata": {},
   "outputs": [],
   "source": [
    "hbar0 = drycell_smoothing(h, e, 0.0)"
   ]
  },
  {
   "cell_type": "code",
   "execution_count": null,
   "metadata": {},
   "outputs": [],
   "source": [
    "hbar = drycell_smoothing(h, e, 2.0)"
   ]
  },
  {
   "cell_type": "code",
   "execution_count": null,
   "metadata": {},
   "outputs": [],
   "source": [
    "plt.plot(h, h)\n",
    "plt.plot(h, hbar0)\n",
    "plt.plot(h, hbar)"
   ]
  },
  {
   "cell_type": "markdown",
   "metadata": {},
   "source": [
    "### Plot data"
   ]
  },
  {
   "cell_type": "code",
   "execution_count": null,
   "metadata": {},
   "outputs": [],
   "source": [
    "fig, axes = plt.subplots(\n",
    "    nrows=1, ncols=1, tight_layout=True, figsize=(width / 2, width / 2)\n",
    ")\n",
    "if not isinstance(axes, list):\n",
    "    axes = [axes]\n",
    "\n",
    "letters = [\"A\", \"B\"]\n",
    "for idx, ax in enumerate(axes):\n",
    "    ax.set_xlim(h0, h1)\n",
    "    ax.set_ylim(h0, h1)\n",
    "    ax.set_xticks([-1, 0, 1])\n",
    "    ax.set_xticklabels(\n",
    "        [r\"$e_{MAW,n} - \\epsilon$\", r\"$e_{MAW,n}$\", r\"$e_{MAW,n} + \\epsilon$\"]\n",
    "    )\n",
    "    ax.set_yticks([0])\n",
    "    ax.set_yticklabels([r\"$e_{MAW,n}$\"], rotation=90, va=\"center\")\n",
    "    if spnspecs is not None:\n",
    "        spnspecs.remove_edge_ticks(ax)\n",
    "        # spnspecs.heading(ax, letter=letters[idx])\n",
    "\n",
    "ax = axes[0]\n",
    "ax.set_aspect(\"equal\", \"box\")\n",
    "ax.axhline(0, lw=0.5, ls=\"-.\", color=\"black\")\n",
    "ax.axvline(0, lw=0.5, ls=\"-.\", color=\"black\")\n",
    "ax.plot(\n",
    "    [-3],\n",
    "    [-3],\n",
    "    lw=0,\n",
    "    mfc=\"black\",\n",
    "    mec=\"none\",\n",
    "    ms=4.5,\n",
    "    marker=r\"$\\epsilon$\",\n",
    "    label=\"smothing distance\",\n",
    ")\n",
    "ax.plot(h, hbar, lw=1.25, color=\"#00BFFF\", label=r\"$\\overline{h}_n^*$ continuous\")\n",
    "ax.plot(\n",
    "    h, hbar0, lw=1.0, color=\"black\", ls=\"-\", label=r\"$\\overline{h}_n$ discontinuous\"\n",
    ")\n",
    "if spnspecs is not None:\n",
    "    handles, labels = ax.get_legend_handles_labels()\n",
    "    spnspecs.graph_legend(\n",
    "        ax,\n",
    "        handles=handles[::-1],\n",
    "        labels=labels[::-1],\n",
    "        loc=\"lower right\",\n",
    "        bbox_to_anchor=(1.00, 0.05),\n",
    "        handlelength=1.5,\n",
    "    )\n",
    "ax.set_xlabel(\"Downstream head, in length units\")\n",
    "ax.set_ylabel(\"Reference elevation, in length units\")\n",
    "\n",
    "fpth = os.path.join(figpth, \"MAWDischargeCorrection.pdf\")\n",
    "fig.savefig(fpth, dpi=dpi)"
   ]
  },
  {
   "cell_type": "code",
   "execution_count": null,
   "metadata": {},
   "outputs": [],
   "source": []
  }
 ],
 "metadata": {
  "kernelspec": {
   "display_name": "Python 3",
   "language": "python",
   "name": "python3"
  },
  "language_info": {
   "codemirror_mode": {
    "name": "ipython",
    "version": 3
   },
   "file_extension": ".py",
   "mimetype": "text/x-python",
   "name": "python",
   "nbconvert_exporter": "python",
   "pygments_lexer": "ipython3",
   "version": "3.8.6"
  }
 },
 "nbformat": 4,
 "nbformat_minor": 4
}
